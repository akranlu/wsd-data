{
 "cells": [
  {
   "cell_type": "code",
   "execution_count": 1,
   "metadata": {},
   "outputs": [],
   "source": [
    "from nltk.corpus import wordnet as wn\n",
    "from collections import defaultdict\n",
    "import numpy as np\n",
    "import json"
   ]
  },
  {
   "cell_type": "code",
   "execution_count": 2,
   "metadata": {},
   "outputs": [],
   "source": [
    "mfs_kb = defaultdict(lambda: defaultdict(int))\n",
    "with open('data/jsonl/SemCor.jsonl', 'r') as f:\n",
    "    for line in f:\n",
    "        items = json.loads(line)\n",
    "        for sense in items['sense'].split(';'):\n",
    "            mfs_kb[items['lemma']][sense] += 1"
   ]
  },
  {
   "cell_type": "code",
   "execution_count": 3,
   "metadata": {},
   "outputs": [],
   "source": [
    "mfs = defaultdict(str)\n",
    "for lemma, kb in mfs_kb.items():\n",
    "    mfs[lemma] = max(kb, key=kb.get)"
   ]
  },
  {
   "cell_type": "code",
   "execution_count": 4,
   "metadata": {},
   "outputs": [],
   "source": [
    "wsd = ['ALL', 'semeval2007', 'semeval2013', 'semeval2015', 'senseval2', 'senseval3']"
   ]
  },
  {
   "cell_type": "code",
   "execution_count": 40,
   "metadata": {},
   "outputs": [],
   "source": [
    "def wn_first(lemma, pos = None):\n",
    "    for l in wn.synsets(lemma, pos)[0].lemmas():\n",
    "        key = l.key()\n",
    "        if key.startswith('{}%'.format(lemma)):\n",
    "            res = key\n",
    "            break\n",
    "        else:\n",
    "            res = ''\n",
    "    return res\n",
    "    \n",
    "# def wn_first_sense(lemma, postag=None):\n",
    "#     pos_map = {'VERB': 'v', 'NOUN': 'n', 'ADJ': 'a', 'ADV': 'r'}\n",
    "#     first_synset = wn.synsets(lemma, pos=pos_map[postag])[0]\n",
    "#     found = False\n",
    "#     for lem in first_synset.lemmas():\n",
    "#         key = lem.key()\n",
    "#         if key.startswith('{}%'.format(lemma)):\n",
    "#             found = True\n",
    "#             break\n",
    "#     assert found\n",
    "#     return key"
   ]
  },
  {
   "cell_type": "code",
   "execution_count": 6,
   "metadata": {},
   "outputs": [],
   "source": [
    "def evaluate(system: list, reference: list):\n",
    "    \n",
    "    system = list(map(lambda x: x.strip(), system))\n",
    "    reference = list(map(lambda x: x.strip(), reference))\n",
    "    \n",
    "    intersection = set(system).intersection(set(reference))\n",
    "    if len(intersection) >= 1:\n",
    "        return 1.0\n",
    "    else:\n",
    "        return 0.0"
   ]
  },
  {
   "cell_type": "code",
   "execution_count": 34,
   "metadata": {},
   "outputs": [],
   "source": [
    "pos = {\n",
    "    'VERB': 'v',\n",
    "    'NOUN': 'n',\n",
    "    'ADJ': 'a',\n",
    "    'ADV': 'r'\n",
    "}"
   ]
  },
  {
   "cell_type": "code",
   "execution_count": 48,
   "metadata": {},
   "outputs": [],
   "source": [
    "scores = []\n",
    "outputs = []\n",
    "pos_wise = defaultdict(list)\n",
    "with open('data/jsonl/ALL.jsonl', 'r') as f:\n",
    "    for line in f:\n",
    "        items = json.loads(line)\n",
    "        mfs = wn_first(items['lemma'], pos[items['pos']])\n",
    "        truth = items['sense'].split(';')\n",
    "        scores.append(evaluate([mfs], truth))\n",
    "        pos_wise[items['pos']].append(evaluate([mfs], truth))"
   ]
  },
  {
   "cell_type": "code",
   "execution_count": 41,
   "metadata": {},
   "outputs": [],
   "source": [
    "with open('data/outputs/ALL_mfs.txt', 'w') as fw:\n",
    "    with open('data/jsonl/ALL.jsonl', 'r') as f:\n",
    "        for line in f:\n",
    "            items = json.loads(line)\n",
    "            mfs = wn_first(items['lemma'], pos[items['pos']])\n",
    "            out = f'{items[\"id\"]} {mfs}\\n'\n",
    "            fw.write(out)"
   ]
  },
  {
   "cell_type": "code",
   "execution_count": 49,
   "metadata": {},
   "outputs": [
    {
     "data": {
      "text/plain": [
       "{'NOUN': 0.676046511627907,\n",
       " 'ADJ': 0.743455497382199,\n",
       " 'VERB': 0.5030266343825666,\n",
       " 'ADV': 0.8092485549132948}"
      ]
     },
     "execution_count": 49,
     "metadata": {},
     "output_type": "execute_result"
    }
   ],
   "source": [
    "{k: np.mean(v) for k, v in pos_wise.items()}"
   ]
  },
  {
   "cell_type": "code",
   "execution_count": 50,
   "metadata": {},
   "outputs": [
    {
     "data": {
      "text/plain": [
       "0.6518681924720805"
      ]
     },
     "execution_count": 50,
     "metadata": {},
     "output_type": "execute_result"
    }
   ],
   "source": [
    "np.mean(scores)"
   ]
  },
  {
   "cell_type": "code",
   "execution_count": null,
   "metadata": {},
   "outputs": [],
   "source": []
  }
 ],
 "metadata": {
  "kernelspec": {
   "display_name": "Python 3",
   "language": "python",
   "name": "python3"
  },
  "language_info": {
   "codemirror_mode": {
    "name": "ipython",
    "version": 3
   },
   "file_extension": ".py",
   "mimetype": "text/x-python",
   "name": "python",
   "nbconvert_exporter": "python",
   "pygments_lexer": "ipython3",
   "version": "3.8.3"
  }
 },
 "nbformat": 4,
 "nbformat_minor": 2
}
