{
 "cells": [
  {
   "cell_type": "code",
   "execution_count": 71,
   "metadata": {},
   "outputs": [],
   "source": [
    "import xml.etree.ElementTree as ET\n",
    "from collections import defaultdict\n",
    "import glob\n",
    "import re\n",
    "import unicodedata\n",
    "import os"
   ]
  },
  {
   "cell_type": "code",
   "execution_count": 72,
   "metadata": {},
   "outputs": [
    {
     "data": {
      "text/plain": [
       "'data/SemCor/'"
      ]
     },
     "execution_count": 72,
     "metadata": {},
     "output_type": "execute_result"
    }
   ],
   "source": [
    "os.path.join('data/SemCor/')"
   ]
  },
  {
   "cell_type": "code",
   "execution_count": 79,
   "metadata": {},
   "outputs": [
    {
     "name": "stdout",
     "output_type": "stream",
     "text": [
      "('data/SemCor/semcor.data', '.xml')\n",
      "('data/SemCor/semcor.gold.key', '.txt')\n"
     ]
    }
   ],
   "source": [
    "for r,d,f in os.walk('data/SemCor/'):\n",
    "    for file in f:\n",
    "        print(os.path.splitext(f'data/SemCor/{file}'))"
   ]
  },
  {
   "cell_type": "code",
   "execution_count": 2,
   "metadata": {},
   "outputs": [],
   "source": [
    "semcor = ET.parse('data/SemCor/semcor.data.xml')\n",
    "gold_file = 'data/SemCor/semcor.gold.key.txt'\n",
    "root = semcor.getroot()"
   ]
  },
  {
   "cell_type": "code",
   "execution_count": 3,
   "metadata": {},
   "outputs": [],
   "source": [
    "semcor_gold = defaultdict(str)\n",
    "\n",
    "with open(gold_file, 'r') as f:\n",
    "    for line in f:\n",
    "        s = line.split()\n",
    "        if len(s) > 2:\n",
    "            synset = ';'.join(s[1:])\n",
    "            key = s[0]\n",
    "            semcor_gold[key] = synset\n",
    "        else:\n",
    "            key, synset = s\n",
    "            semcor_gold[key] = synset\n",
    "\n",
    "semcor_gold.default_factory = None"
   ]
  },
  {
   "cell_type": "code",
   "execution_count": 58,
   "metadata": {},
   "outputs": [],
   "source": [
    "# sentences = set()\n",
    "sense_annotations = []\n",
    "pos = defaultdict(int)\n",
    "for text in root:\n",
    "    for j, sentence in enumerate(text):\n",
    "        s = ' '.join([w.text for w in sentence]).replace('filde', 'filled').replace('do [ c ] ters', 'doctors').replace('``', '\"').replace('&apos;&apos;', '\"').replace(\"\\''\", '\"').replace('offersey', 'officers').replace('takeing', 'taking')\n",
    "        sentences.add(s)\n",
    "        cidx = 0\n",
    "        for i, word in enumerate(sentence):\n",
    "            text = word.text\n",
    "            # doing my best to correct some spellings that stand out..\n",
    "            if text == 'filde':\n",
    "                text = 'filled'\n",
    "            if text == 'do [ c ] ters':\n",
    "                text = 'doctors'\n",
    "            if text == 'offersey':\n",
    "                text = 'officers'\n",
    "            if text == '``':\n",
    "                text = '\"'\n",
    "            if text == '&apos;&apos;' or text == \"\\''\":\n",
    "                text = '\"'\n",
    "            text = text.replace('takeing', 'taking')\n",
    "            length = len(text.split(\" \"))\n",
    "            cidx += length\n",
    "            if word.tag == 'instance':\n",
    "                pos[word.attrib['pos']] += 1\n",
    "                start = cidx - length\n",
    "                end = cidx\n",
    "                if \" \".join(s.split(\" \")[start:end]) != text:\n",
    "                    print(i, text, \" \".join(s.split(\" \")[start:end]), s)\n",
    "                # word, position, pos, sentence, synset\n",
    "                sense_annotations.append({'word': text, 'start': start, 'end': end, 'sense': semcor_gold[word.attrib['id']], 'lemma': word.attrib['lemma'], 'pos': word.attrib['pos'], 'sentence': s})"
   ]
  },
  {
   "cell_type": "code",
   "execution_count": 70,
   "metadata": {},
   "outputs": [],
   "source": [
    "for entry in sense_annotations:\n",
    "    if entry['word'] != \" \".join(entry['sentence'].split(\" \")[entry['start']:entry['end']]):\n",
    "        print(entry)"
   ]
  },
  {
   "cell_type": "code",
   "execution_count": 65,
   "metadata": {},
   "outputs": [
    {
     "data": {
      "text/plain": [
       "{'word': 'been',\n",
       " 'start': 4,\n",
       " 'end': 5,\n",
       " 'sense': 'be%2:42:03::',\n",
       " 'lemma': 'be',\n",
       " 'pos': 'VERB',\n",
       " 'sentence': 'How long has it been since you reviewed the objectives of your benefit and service program ?'}"
      ]
     },
     "execution_count": 65,
     "metadata": {},
     "output_type": "execute_result"
    }
   ],
   "source": [
    "sense_annotations[1]"
   ]
  }
 ],
 "metadata": {
  "kernelspec": {
   "display_name": "Python 3",
   "language": "python",
   "name": "python3"
  },
  "language_info": {
   "codemirror_mode": {
    "name": "ipython",
    "version": 3
   },
   "file_extension": ".py",
   "mimetype": "text/x-python",
   "name": "python",
   "nbconvert_exporter": "python",
   "pygments_lexer": "ipython3",
   "version": "3.7.1"
  }
 },
 "nbformat": 4,
 "nbformat_minor": 2
}
